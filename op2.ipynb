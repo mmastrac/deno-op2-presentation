{
 "cells": [
  {
   "cell_type": "markdown",
   "id": "8730c0d0",
   "metadata": {
    "slideshow": {
     "slide_type": "slide"
    }
   },
   "source": [
    "# New rustls/tokio Library\n",
    "\n",
    "https://github.com/denoland/rustls-tokio-stream/"
   ]
  },
  {
   "cell_type": "markdown",
   "id": "62966fdf",
   "metadata": {
    "slideshow": {
     "slide_type": "fragment"
    }
   },
   "source": [
    " - Replaces rustls-tokio + our custom code to split read/write halves\n",
    " - Old code is stable, but difficult to modify"
   ]
  },
  {
   "cell_type": "markdown",
   "id": "ea59da42",
   "metadata": {
    "slideshow": {
     "slide_type": "slide"
    }
   },
   "source": [
    "# New rustls/tokio Library"
   ]
  },
  {
   "cell_type": "markdown",
   "id": "36253bbf",
   "metadata": {
    "slideshow": {
     "slide_type": "fragment"
    }
   },
   "source": [
    " - Designed in layers:\n",
    "   * A tokio task that takes a TLS connection and drives a handshake in the background\n",
    "   * A stream for a handshaked TLS connection\n",
    "   * A stream for a TLS connection that buffers writes and pauses reads until handshake is complete\n",
    " - More robust: extensive testing at each layer, written in Rust"
   ]
  },
  {
   "cell_type": "markdown",
   "id": "b998d584",
   "metadata": {
    "slideshow": {
     "slide_type": "slide"
    }
   },
   "source": [
    "# New rustls/tokio Library"
   ]
  },
  {
   "cell_type": "markdown",
   "id": "6c0a087a",
   "metadata": {
    "slideshow": {
     "slide_type": "fragment"
    }
   },
   "source": [
    " - Current focus is on reliability, follow-up work will be on performance"
   ]
  },
  {
   "cell_type": "markdown",
   "id": "74defd07",
   "metadata": {
    "slideshow": {
     "slide_type": "slide"
    }
   },
   "source": [
    "# Fast Streams\n",
    "\n",
    " - Slowly working on replacing all resource read/write operations with `deno_core` code\n",
    " - Will allow for \"big bang\" optimizations once we have less implementations\n",
    " - Big project, will take some time\n",
    " - Major output from first round: `resourceForReadableStream`\n",
    "   * Optimized resource layer over a `ReadableStream`\n",
    "   * Supports backpressure and packet aggregation\n",
    "   * Replaces custom code in `Deno.serve`\n",
    "   * Will shortly replace code in `fetch` and `node:http`"
   ]
  },
  {
   "cell_type": "code",
   "execution_count": 27,
   "id": "57d856f9",
   "metadata": {
    "slideshow": {
     "slide_type": "skip"
    }
   },
   "outputs": [
    {
     "name": "stdout",
     "output_type": "stream",
     "text": [
      "Running benchmark...\n",
      "Finished benchmark...\n",
      "\n",
      "running 34 tests\n",
      "test baseline                               ... bench:         696 ns/iter (+/- 35)\n",
      "test bench_op_arraybuffer                   ... bench:       5,941 ns/iter (+/- 167)\n",
      "test bench_op_bigint                        ... bench:       3,249 ns/iter (+/- 45)\n",
      "test bench_op_bigint_return                 ... bench:       3,148 ns/iter (+/- 88)\n",
      "test bench_op_buffer                        ... bench:       4,428 ns/iter (+/- 90)\n",
      "test bench_op_buffer_nofast                 ... bench:      42,518 ns/iter (+/- 1,394)\n",
      "test bench_op_buffer_old                    ... bench:       3,096 ns/iter (+/- 88)\n",
      "test bench_op_external                      ... bench:       3,451 ns/iter (+/- 99)\n",
      "test bench_op_external_nofast               ... bench:      11,750 ns/iter (+/- 238)\n",
      "test bench_op_option_u32                    ... bench:       8,588 ns/iter (+/- 193)\n",
      "test bench_op_string                        ... bench:      11,347 ns/iter (+/- 321)\n",
      "test bench_op_string_bytestring             ... bench:      59,943 ns/iter (+/- 3,969)\n",
      "test bench_op_string_large_1000             ... bench:     106,884 ns/iter (+/- 4,297)\n",
      "test bench_op_string_large_1000000          ... bench:     401,908 ns/iter (+/- 17,388)\n",
      "test bench_op_string_large_utf8_1000        ... bench:   2,116,437 ns/iter (+/- 55,359)\n",
      "test bench_op_string_large_utf8_1000000     ... bench:  11,264,374 ns/iter (+/- 573,160)\n",
      "test bench_op_string_old                    ... bench:      12,906 ns/iter (+/- 1,371)\n",
      "test bench_op_string_old_large_1000         ... bench:     137,081 ns/iter (+/- 2,977)\n",
      "test bench_op_string_old_large_1000000      ... bench:     322,584 ns/iter (+/- 89,700)\n",
      "test bench_op_string_old_large_utf8_1000    ... bench:   2,940,762 ns/iter (+/- 64,305)\n",
      "test bench_op_string_old_large_utf8_1000000 ... bench:  14,910,987 ns/iter (+/- 820,895)\n",
      "test bench_op_string_onebyte                ... bench:       4,802 ns/iter (+/- 131)\n",
      "test bench_op_string_onebyte_large_1000     ... bench:     106,028 ns/iter (+/- 9,480)\n",
      "test bench_op_string_onebyte_large_1000000  ... bench:     189,744 ns/iter (+/- 93,339)\n",
      "test bench_op_string_option_u32             ... bench:      36,986 ns/iter (+/- 1,519)\n",
      "test bench_op_u32                           ... bench:       3,179 ns/iter (+/- 133)\n",
      "test bench_op_v8_global                     ... bench:      29,491 ns/iter (+/- 416)\n",
      "test bench_op_v8_global_scope               ... bench:      41,630 ns/iter (+/- 1,171)\n",
      "test bench_op_v8_local                      ... bench:       4,505 ns/iter (+/- 100)\n",
      "test bench_op_v8_local_nofast               ... bench:       8,429 ns/iter (+/- 179)\n",
      "test bench_op_v8_local_scope                ... bench:      17,533 ns/iter (+/- 637)\n",
      "test bench_op_void                          ... bench:       3,144 ns/iter (+/- 85)\n",
      "test bench_op_void_2x                       ... bench:       6,511 ns/iter (+/- 155)\n",
      "test bench_op_void_nofast                   ... bench:       8,290 ns/iter (+/- 268)\n",
      "\n",
      "test result: ok. 0 passed; 0 failed; 0 ignored; 34 measured\n",
      "\n",
      "\n"
     ]
    }
   ],
   "source": [
    "console.log(\"Running benchmark...\");\n",
    "let process = Deno.run({ cmd: [\"cargo\", \"bench\", \"--bench\", \"ops_sync\", \"--features=unsafe_runtime_options\"], cwd: \"../deno_core/\", stdout: \"piped\", stderr: \"piped\" });\n",
    "await process.status();\n",
    "let benchOut = new TextDecoder().decode(await Deno.readAll(process.stdout));\n",
    "console.log(\"Finished benchmark...\");\n",
    "console.log(benchOut);"
   ]
  },
  {
   "cell_type": "code",
   "execution_count": 121,
   "id": "00442342",
   "metadata": {
    "slideshow": {
     "slide_type": "skip"
    }
   },
   "outputs": [
    {
     "data": {
      "application/vnd.dataresource+json": {
       "data": [
        {
         "name": "small",
         "new": "11347",
         "old": "12906",
         "speedup": "12.08%"
        },
        {
         "name": "1,000",
         "new": "106884",
         "old": "137081",
         "speedup": "22.03%"
        },
        {
         "name": "1,000,000",
         "new": "401908",
         "old": "322584",
         "speedup": "-24.59%"
        },
        {
         "name": "1,000 utf8",
         "new": "2116437",
         "old": "2940762",
         "speedup": "28.03%"
        },
        {
         "name": "1,000,000 utf8",
         "new": "11264374",
         "old": "14910987",
         "speedup": "24.46%"
        },
        {
         "name": "ByteString",
         "new": "4802",
         "old": "59943",
         "speedup": "91.99%"
        }
       ],
       "schema": {
        "fields": [
         {
          "name": "name",
          "type": "string"
         },
         {
          "name": "old",
          "type": "string"
         },
         {
          "name": "new",
          "type": "string"
         },
         {
          "name": "speedup",
          "type": "string"
         }
        ]
       }
      },
      "text/html": [
       "<table><thead><tr><th>name</th><th>old</th><th>new</th><th>speedup</th></tr></thead><tbody><tr><td>small</td><td>12906</td><td>11347</td><td>12.08%</td></tr><tr><td>1,000</td><td>137081</td><td>106884</td><td>22.03%</td></tr><tr><td>1,000,000</td><td>322584</td><td>401908</td><td>-24.59%</td></tr><tr><td>1,000 utf8</td><td>2940762</td><td>2116437</td><td>28.03%</td></tr><tr><td>1,000,000 utf8</td><td>14910987</td><td>11264374</td><td>24.46%</td></tr><tr><td>ByteString</td><td>59943</td><td>4802</td><td>91.99%</td></tr></tbody></table>"
      ]
     },
     "execution_count": 121,
     "metadata": {},
     "output_type": "execute_result"
    }
   ],
   "source": [
    "import pl from \"npm:nodejs-polars\"\n",
    "\n",
    "let names = [], times = [];\n",
    "for (let line of benchOut.split('\\n')) {\n",
    "    if (line.startsWith('test ') && line.includes('...')) {\n",
    "        let [nameBits, timeBits, ...rest] = line.split('bench:');\n",
    "        let [_, name] = nameBits.trim().split(\" \");\n",
    "        let [timeComma] = timeBits.trim().split(\" \");\n",
    "        let time = timeComma.replace(/,/g, '');\n",
    "        names.push(name);\n",
    "        times.push(time);\n",
    "    }\n",
    "}\n",
    "\n",
    "let df = new pl.DataFrame({\n",
    "    name: names,\n",
    "    time: times,\n",
    "})\n",
    "\n",
    "\n",
    "//df.filter(pl.col(\"name\").str.contains('bench_op_string_').and(pl.col(\"name\").str.contains('_1000000')));\n",
    "let r = df.toRecords()\n",
    "    .filter((row) => row.name.includes('op_string'))\n",
    "    .reduce((input, row) => { input[row.name] = row.time; return input }, {});\n",
    "    \n",
    "let comparisons = [\n",
    "    [\"small\", \"bench_op_string_old\", \"bench_op_string\"],\n",
    "    [\"1,000\", \"bench_op_string_old_large_1000\", \"bench_op_string_large_1000\"],\n",
    "    [\"1,000,000\", \"bench_op_string_old_large_1000000\", \"bench_op_string_large_1000000\"],\n",
    "    [\"1,000 utf8\", \"bench_op_string_old_large_utf8_1000\", \"bench_op_string_large_utf8_1000\"],\n",
    "    [\"1,000,000 utf8\", \"bench_op_string_old_large_utf8_1000000\", \"bench_op_string_large_utf8_1000000\"],\n",
    "    [\"ByteString\", \"bench_op_string_bytestring\", \"bench_op_string_onebyte\"],\n",
    "];\n",
    "\n",
    "let dfrec = { name: [], old: [], new: [], speedup: [] };\n",
    "\n",
    "for (let row of comparisons) {\n",
    "    dfrec.name.push(row[0]);\n",
    "    dfrec.old.push(r[row[1]]);\n",
    "    dfrec.new.push(r[row[2]]);\n",
    "    dfrec.speedup.push( ((r[row[1]] - r[row[2]]) / r[row[1]] * 100).toFixed(2) + \"%\" );\n",
    "}\n",
    "\n",
    "const dfString = new pl.DataFrame(dfrec);\n",
    "dfString"
   ]
  },
  {
   "cell_type": "markdown",
   "id": "165a2b93",
   "metadata": {
    "slideshow": {
     "slide_type": "slide"
    }
   },
   "source": [
    "# `#[op2]`"
   ]
  },
  {
   "cell_type": "markdown",
   "id": "bfc5e324",
   "metadata": {
    "slideshow": {
     "slide_type": "slide"
    }
   },
   "source": [
    "# A brief history of ops\n",
    "### (incomplete)"
   ]
  },
  {
   "cell_type": "markdown",
   "id": "e21ff1f1",
   "metadata": {
    "slideshow": {
     "slide_type": "fragment"
    }
   },
   "source": [
    " * Note: a high-level reconstruction that skips or misses some details"
   ]
  },
  {
   "cell_type": "markdown",
   "id": "2e6d9b86",
   "metadata": {
    "slideshow": {
     "slide_type": "fragment"
    }
   },
   "source": [
    "- early ops: JSON and binary buffers sent from JS to Rust\n",
    "  * _lots_ of serialization overhead"
   ]
  },
  {
   "cell_type": "markdown",
   "id": "71e0cbbe",
   "metadata": {
    "slideshow": {
     "slide_type": "slide"
    }
   },
   "source": [
    "# A brief history of ops (incomplete)"
   ]
  },
  {
   "cell_type": "markdown",
   "id": "d6a266ee",
   "metadata": {
    "slideshow": {
     "slide_type": "fragment"
    }
   },
   "source": [
    "- `serde_v8` + codegen via traits\n",
    "  * No more JSON overhead\n",
    "  * ops dispatched via central table"
   ]
  },
  {
   "cell_type": "markdown",
   "id": "47937c47",
   "metadata": {
    "slideshow": {
     "slide_type": "fragment"
    }
   },
   "source": [
    "- `[op]`: proc macros\n",
    "  * one function per op\n",
    "  * ops can now have custom number of parameters\n",
    "  * still using `serde_v8` + codegen"
   ]
  },
  {
   "cell_type": "markdown",
   "id": "cc1f0a65",
   "metadata": {
    "slideshow": {
     "slide_type": "slide"
    }
   },
   "source": [
    "# A brief history of ops (incomplete)"
   ]
  },
  {
   "cell_type": "markdown",
   "id": "f7f0ab14",
   "metadata": {
    "slideshow": {
     "slide_type": "fragment"
    }
   },
   "source": [
    "- fastcalls and custom per-type dispatch\n",
    "  * Skip serde_v8 for some basic types\n",
    "  * Allow v8 to call Rust directly from JIT'd code"
   ]
  },
  {
   "cell_type": "markdown",
   "id": "b3e2494b",
   "metadata": {
    "slideshow": {
     "slide_type": "slide"
    }
   },
   "source": [
    "# `#[op2]`\n",
    "\n",
    "Evolution from `#[op]`\n",
    " \n",
    "<table><tr style=\"background-color: white\"><td style=\"text-align:left !important;\">\n",
    "\n",
    "Before:\n",
    "\n",
    "```rust\n",
    " #[op]\n",
    " pub fn op_do_something(...) {\n",
    "   do_something()\n",
    " }\n",
    "```\n",
    " \n",
    "</td><td style=\"text-align:left !important;\">\n",
    "\n",
    "After:\n",
    "    \n",
    "```rust\n",
    " #[op2]\n",
    " pub fn op_do_something(...) {\n",
    "   do_something()\n",
    " }\n",
    "```\n",
    "    \n",
    "</td></tr></table>"
   ]
  },
  {
   "cell_type": "markdown",
   "id": "8eea3545",
   "metadata": {
    "slideshow": {
     "slide_type": "slide"
    }
   },
   "source": [
    "# `#[op2]`\n",
    "\n",
    " - Maintainability:\n",
    "   - Parsing and codegen split into distinct steps\n",
    "   - Fast and slow codegen separate to evolve as we have bandwidth\n",
    "   - Codegen for each input/output type is separate"
   ]
  },
  {
   "cell_type": "markdown",
   "id": "885f6df9",
   "metadata": {
    "slideshow": {
     "slide_type": "slide"
    }
   },
   "source": [
    "# `#[op2]`\n",
    "\n",
    " - Designed for performance:\n",
    "   - Locks removed for almost all sync ops (unless they touch the state)\n",
    "   - Context and other objects only created as necessary\n",
    "   - Metrics are pluggable and have near-zero cost when disabled\n",
    "   - Removed allocations for most strings"
   ]
  },
  {
   "cell_type": "code",
   "execution_count": 122,
   "id": "324af6dc",
   "metadata": {
    "slideshow": {
     "slide_type": "fragment"
    }
   },
   "outputs": [
    {
     "data": {
      "application/vnd.dataresource+json": {
       "data": [
        {
         "name": "small",
         "new": "11347",
         "old": "12906",
         "speedup": "12.08%"
        },
        {
         "name": "1,000",
         "new": "106884",
         "old": "137081",
         "speedup": "22.03%"
        },
        {
         "name": "1,000,000",
         "new": "401908",
         "old": "322584",
         "speedup": "-24.59%"
        },
        {
         "name": "1,000 utf8",
         "new": "2116437",
         "old": "2940762",
         "speedup": "28.03%"
        },
        {
         "name": "1,000,000 utf8",
         "new": "11264374",
         "old": "14910987",
         "speedup": "24.46%"
        },
        {
         "name": "ByteString",
         "new": "4802",
         "old": "59943",
         "speedup": "91.99%"
        }
       ],
       "schema": {
        "fields": [
         {
          "name": "name",
          "type": "string"
         },
         {
          "name": "old",
          "type": "string"
         },
         {
          "name": "new",
          "type": "string"
         },
         {
          "name": "speedup",
          "type": "string"
         }
        ]
       }
      },
      "text/html": [
       "<table><thead><tr><th>name</th><th>old</th><th>new</th><th>speedup</th></tr></thead><tbody><tr><td>small</td><td>12906</td><td>11347</td><td>12.08%</td></tr><tr><td>1,000</td><td>137081</td><td>106884</td><td>22.03%</td></tr><tr><td>1,000,000</td><td>322584</td><td>401908</td><td>-24.59%</td></tr><tr><td>1,000 utf8</td><td>2940762</td><td>2116437</td><td>28.03%</td></tr><tr><td>1,000,000 utf8</td><td>14910987</td><td>11264374</td><td>24.46%</td></tr><tr><td>ByteString</td><td>59943</td><td>4802</td><td>91.99%</td></tr></tbody></table>"
      ]
     },
     "execution_count": 122,
     "metadata": {},
     "output_type": "execute_result"
    }
   ],
   "source": [
    "dfString"
   ]
  },
  {
   "cell_type": "markdown",
   "id": "2ea1a58c",
   "metadata": {
    "slideshow": {
     "slide_type": "slide"
    }
   },
   "source": [
    "# `#[op2]`\n",
    "\n",
    " - _Explicit_ over _implicit_, clarity for developers\n",
    " - Annotations indicate where developer should pay attention to argument type because of performance or other concerns\n",
    " \n",
    "```rust\n",
    "#[op2]\n",
    "pub fn op_something(\n",
    "    #[smi] id: u32,\n",
    "    #[string] name: &str,\n",
    "    #[buffer(copy)] buffer_in: JsBuffer,\n",
    "    #[buffer] buffer_out: &mut [u8],\n",
    "    #[serde] control: ComplexStruct) {\n",
    "}\n",
    "```"
   ]
  },
  {
   "cell_type": "markdown",
   "id": "3f834c61",
   "metadata": {
    "slideshow": {
     "slide_type": "slide"
    }
   },
   "source": [
    "# `#[op2]`\n",
    "\n",
    " - _Explicit_ over _implicit_, clarity for developers\n",
    " - Fast is now very explicit: `#[op2(fast)]` is self-checking\n",
    " - Shortcuts for common patterns: `#[state]`, `v8::Global`\n",
    " \n",
    " (insert error here)\n",
    " \n"
   ]
  },
  {
   "cell_type": "markdown",
   "id": "cbd79c95",
   "metadata": {
    "slideshow": {
     "slide_type": "slide"
    }
   },
   "source": [
    "# `#[op2]`\n",
    "\n",
    "Self-documenting: https://docs.rs/deno_ops/latest/deno_ops/attr.op2.html\n"
   ]
  },
  {
   "cell_type": "markdown",
   "id": "e2a14141",
   "metadata": {
    "slideshow": {
     "slide_type": "slide"
    }
   },
   "source": [
    "# `#[op2]`\n",
    "\n",
    " - Future plans:\n",
    "   * Final benchmark of op vs op2, ensure op2 is fast or faster\n",
    "   * More helpers: `#[resource]`, `ScopeFunction`"
   ]
  }
 ],
 "metadata": {
  "celltoolbar": "Slideshow",
  "kernelspec": {
   "display_name": "Deno",
   "language": "typescript",
   "name": "deno"
  },
  "language_info": {
   "file_extension": ".ts",
   "mimetype": "text/x.typescript",
   "name": "typescript",
   "nb_converter": "script",
   "pygments_lexer": "typescript",
   "version": "5.2.2"
  },
  "rise": {
   "enable_chalkboard": "true",
   "scroll": "true",
   "transition": "none"
  }
 },
 "nbformat": 4,
 "nbformat_minor": 5
}
