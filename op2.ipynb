{
 "cells": [
  {
   "cell_type": "markdown",
   "id": "78b2bc1f",
   "metadata": {
    "slideshow": {
     "slide_type": "slide"
    }
   },
   "source": [
    "<center>\n",
    "    \n",
    "# CLI Performance (part 2)\n",
    "<br>\n",
    "<hr>\n",
    "<br>\n"
   ]
  },
  {
   "cell_type": "markdown",
   "id": "8730c0d0",
   "metadata": {
    "slideshow": {
     "slide_type": "slide"
    }
   },
   "source": [
    "# New rustls/tokio Library\n",
    "\n",
    "https://github.com/denoland/rustls-tokio-stream/"
   ]
  },
  {
   "cell_type": "markdown",
   "id": "62966fdf",
   "metadata": {
    "slideshow": {
     "slide_type": "fragment"
    }
   },
   "source": [
    " - Replaces rustls-tokio + our custom code to split read/write halves\n",
    " - Old code is stable, but difficult to modify"
   ]
  },
  {
   "cell_type": "markdown",
   "id": "ea59da42",
   "metadata": {
    "slideshow": {
     "slide_type": "slide"
    }
   },
   "source": [
    "# New rustls/tokio Library"
   ]
  },
  {
   "cell_type": "markdown",
   "id": "36253bbf",
   "metadata": {
    "slideshow": {
     "slide_type": "fragment"
    }
   },
   "source": [
    " - Designed in layers:\n",
    "   * A tokio task that takes a TLS connection and drives a handshake in the background\n",
    "   * A stream for a handshaked TLS connection\n",
    "   * A stream for a TLS connection that buffers writes and pauses reads until handshake is complete\n",
    " - More robust: extensive testing at each layer, written in Rust"
   ]
  },
  {
   "cell_type": "markdown",
   "id": "b998d584",
   "metadata": {
    "slideshow": {
     "slide_type": "slide"
    }
   },
   "source": [
    "# New rustls/tokio Library"
   ]
  },
  {
   "cell_type": "markdown",
   "id": "6c0a087a",
   "metadata": {
    "slideshow": {
     "slide_type": "fragment"
    }
   },
   "source": [
    " - Current focus is on reliability, follow-up work will be on performance"
   ]
  },
  {
   "cell_type": "markdown",
   "id": "6a164141",
   "metadata": {
    "slideshow": {
     "slide_type": "slide"
    }
   },
   "source": [
    "# Fast Streams\n",
    "\n",
    " - Slowly working on replacing all resource read/write operations with `deno_core` code\n",
    " - Will allow for \"big bang\" optimizations once we have less implementations\n",
    " - Big project, will take some time"
   ]
  },
  {
   "cell_type": "markdown",
   "id": "74defd07",
   "metadata": {
    "slideshow": {
     "slide_type": "slide"
    }
   },
   "source": [
    "# Fast Streams\n",
    "\n",
    " - Major output from first round: `resourceForReadableStream`\n",
    "   * Optimized resource layer over a `ReadableStream`\n",
    "   * Supports backpressure and packet aggregation\n",
    "   * Replaces custom code in `Deno.serve`\n",
    "   * Will shortly replace code in `fetch` and `node:http`"
   ]
  },
  {
   "cell_type": "code",
   "execution_count": 16,
   "id": "57d856f9",
   "metadata": {
    "slideshow": {
     "slide_type": "skip"
    }
   },
   "outputs": [
    {
     "name": "stdout",
     "output_type": "stream",
     "text": [
      "Running benchmark...\n",
      "Finished benchmark...\n",
      "\n",
      "running 34 tests\n",
      "test baseline                               ... bench:         470 ns/iter (+/- 13)\n",
      "test bench_op_arraybuffer                   ... bench:       4,040 ns/iter (+/- 21)\n",
      "test bench_op_bigint                        ... bench:       2,213 ns/iter (+/- 24)\n",
      "test bench_op_bigint_return                 ... bench:       2,147 ns/iter (+/- 32)\n",
      "test bench_op_buffer                        ... bench:       3,034 ns/iter (+/- 134)\n",
      "test bench_op_buffer_nofast                 ... bench:      28,873 ns/iter (+/- 852)\n",
      "test bench_op_buffer_old                    ... bench:       2,114 ns/iter (+/- 47)\n",
      "test bench_op_external                      ... bench:       2,363 ns/iter (+/- 21)\n",
      "test bench_op_external_nofast               ... bench:       8,050 ns/iter (+/- 433)\n",
      "test bench_op_option_u32                    ... bench:       5,859 ns/iter (+/- 172)\n",
      "test bench_op_string                        ... bench:       7,759 ns/iter (+/- 171)\n",
      "test bench_op_string_bytestring             ... bench:      40,429 ns/iter (+/- 596)\n",
      "test bench_op_string_large_1000             ... bench:      72,969 ns/iter (+/- 1,447)\n",
      "test bench_op_string_large_1000000          ... bench:     281,887 ns/iter (+/- 7,076)\n",
      "test bench_op_string_large_utf8_1000        ... bench:   1,443,703 ns/iter (+/- 31,434)\n",
      "test bench_op_string_large_utf8_1000000     ... bench:   7,640,741 ns/iter (+/- 74,516)\n",
      "test bench_op_string_old                    ... bench:       9,196 ns/iter (+/- 1,127)\n",
      "test bench_op_string_old_large_1000         ... bench:      93,889 ns/iter (+/- 2,987)\n",
      "test bench_op_string_old_large_1000000      ... bench:     170,818 ns/iter (+/- 3,418)\n",
      "test bench_op_string_old_large_utf8_1000    ... bench:   2,008,520 ns/iter (+/- 36,749)\n",
      "test bench_op_string_old_large_utf8_1000000 ... bench:  10,019,408 ns/iter (+/- 328,922)\n",
      "test bench_op_string_onebyte                ... bench:       3,245 ns/iter (+/- 13)\n",
      "test bench_op_string_onebyte_large_1000     ... bench:      73,398 ns/iter (+/- 1,089)\n",
      "test bench_op_string_onebyte_large_1000000  ... bench:      79,602 ns/iter (+/- 5,468)\n",
      "test bench_op_string_option_u32             ... bench:      24,924 ns/iter (+/- 414)\n",
      "test bench_op_u32                           ... bench:       2,143 ns/iter (+/- 47)\n",
      "test bench_op_v8_global                     ... bench:      20,497 ns/iter (+/- 4,137)\n",
      "test bench_op_v8_global_scope               ... bench:      28,486 ns/iter (+/- 667)\n",
      "test bench_op_v8_local                      ... bench:       3,072 ns/iter (+/- 69)\n",
      "test bench_op_v8_local_nofast               ... bench:       5,774 ns/iter (+/- 151)\n",
      "test bench_op_v8_local_scope                ... bench:      11,753 ns/iter (+/- 233)\n",
      "test bench_op_void                          ... bench:       2,146 ns/iter (+/- 49)\n",
      "test bench_op_void_2x                       ... bench:       4,440 ns/iter (+/- 105)\n",
      "test bench_op_void_nofast                   ... bench:       5,656 ns/iter (+/- 91)\n",
      "\n",
      "test result: ok. 0 passed; 0 failed; 0 ignored; 34 measured\n",
      "\n",
      "\n"
     ]
    }
   ],
   "source": [
    "console.log(\"Running benchmark...\");\n",
    "let process = Deno.run({ cmd: [\"cargo\", \"bench\", \"--bench\", \"ops_sync\", \"--features=unsafe_runtime_options\"], cwd: \"../deno_core/\", stdout: \"piped\", stderr: \"piped\" });\n",
    "await process.status();\n",
    "let benchOutSync = new TextDecoder().decode(await Deno.readAll(process.stdout));\n",
    "console.log(\"Finished benchmark...\");\n",
    "console.log(benchOutSync);"
   ]
  },
  {
   "cell_type": "code",
   "execution_count": 31,
   "id": "b6a6f59f",
   "metadata": {
    "slideshow": {
     "slide_type": "skip"
    }
   },
   "outputs": [
    {
     "name": "stdout",
     "output_type": "stream",
     "text": [
      "Running benchmark...\n",
      "Finished benchmark...\n",
      "\n",
      "running 12 tests\n",
      "test baseline                             ... bench:         824 ns/iter (+/- 13)\n",
      "test bench_op_async_void                  ... bench:     103,436 ns/iter (+/- 4,794)\n",
      "test bench_op_async_void_deferred         ... bench:     547,586 ns/iter (+/- 45,903)\n",
      "test bench_op_async_void_deferred_nofast  ... bench:     540,914 ns/iter (+/- 34,145)\n",
      "test bench_op_async_void_lazy             ... bench:     482,150 ns/iter (+/- 24,172)\n",
      "test bench_op_async_void_lazy_nofast      ... bench:     545,937 ns/iter (+/- 126,705)\n",
      "test bench_op_async_yield                 ... bench:     528,709 ns/iter (+/- 26,613)\n",
      "test bench_op_async_yield_deferred        ... bench:     530,796 ns/iter (+/- 23,708)\n",
      "test bench_op_async_yield_deferred_nofast ... bench:     527,600 ns/iter (+/- 27,955)\n",
      "test bench_op_async_yield_lazy            ... bench:     560,303 ns/iter (+/- 129,685)\n",
      "test bench_op_async_yield_lazy_nofast     ... bench:     553,959 ns/iter (+/- 122,191)\n",
      "test sync_baseline                        ... bench:      42,720 ns/iter (+/- 2,142)\n",
      "\n",
      "test result: ok. 0 passed; 0 failed; 0 ignored; 12 measured\n",
      "\n",
      "\n"
     ]
    }
   ],
   "source": [
    "console.log(\"Running benchmark...\");\n",
    "let process = Deno.run({ cmd: [\"cargo\", \"bench\", \"--bench\", \"ops_async\", \"--features=unsafe_runtime_options\"], cwd: \"../deno_core/\", stdout: \"piped\", stderr: \"piped\" });\n",
    "await process.status();\n",
    "let benchOutAsync = new TextDecoder().decode(await Deno.readAll(process.stdout));\n",
    "console.log(\"Finished benchmark...\");\n",
    "console.log(benchOutAsync);"
   ]
  },
  {
   "cell_type": "code",
   "execution_count": null,
   "id": "febd4655",
   "metadata": {
    "slideshow": {
     "slide_type": "skip"
    }
   },
   "outputs": [],
   "source": [
    "import pl from \"npm:nodejs-polars\""
   ]
  },
  {
   "cell_type": "code",
   "execution_count": 93,
   "id": "00442342",
   "metadata": {
    "scrolled": true,
    "slideshow": {
     "slide_type": "skip"
    }
   },
   "outputs": [
    {
     "data": {
      "application/vnd.dataresource+json": {
       "data": [
        {
         "name": "small",
         "new": "7,759",
         "old": "9,196",
         "speedup": "15.63%"
        },
        {
         "name": "1,000",
         "new": "72,969",
         "old": "93,889",
         "speedup": "22.28%"
        },
        {
         "name": "1,000,000",
         "new": "281,887",
         "old": "170,818",
         "speedup": "-65.02%"
        },
        {
         "name": "1,000 utf8",
         "new": "1,443,703",
         "old": "2,008,520",
         "speedup": "28.12%"
        },
        {
         "name": "1,000,000 utf8",
         "new": "7,640,741",
         "old": "10,019,408",
         "speedup": "23.74%"
        },
        {
         "name": "ByteString",
         "new": "3,245",
         "old": "40,429",
         "speedup": "91.97%"
        }
       ],
       "schema": {
        "fields": [
         {
          "name": "name",
          "type": "string"
         },
         {
          "name": "old",
          "type": "string"
         },
         {
          "name": "new",
          "type": "string"
         },
         {
          "name": "speedup",
          "type": "string"
         }
        ]
       }
      },
      "text/html": [
       "<table><thead><tr><th>name</th><th>old</th><th>new</th><th>speedup</th></tr></thead><tbody><tr><td>small</td><td>9,196</td><td>7,759</td><td>15.63%</td></tr><tr><td>1,000</td><td>93,889</td><td>72,969</td><td>22.28%</td></tr><tr><td>1,000,000</td><td>170,818</td><td>281,887</td><td>-65.02%</td></tr><tr><td>1,000 utf8</td><td>2,008,520</td><td>1,443,703</td><td>28.12%</td></tr><tr><td>1,000,000 utf8</td><td>10,019,408</td><td>7,640,741</td><td>23.74%</td></tr><tr><td>ByteString</td><td>40,429</td><td>3,245</td><td>91.97%</td></tr></tbody></table>"
      ]
     },
     "execution_count": 93,
     "metadata": {},
     "output_type": "execute_result"
    }
   ],
   "source": [
    "let names = [], times = [];\n",
    "for (let line of benchOutSync.split('\\n')) {\n",
    "    if (line.startsWith('test ') && line.includes('...')) {\n",
    "        let [nameBits, timeBits, ...rest] = line.split('bench:');\n",
    "        let [_, name] = nameBits.trim().split(\" \");\n",
    "        let [timeComma] = timeBits.trim().split(\" \");\n",
    "        let time = timeComma.replace(/,/g, '');\n",
    "        names.push(name);\n",
    "        times.push(time);\n",
    "    }\n",
    "}\n",
    "\n",
    "let df = new pl.DataFrame({\n",
    "    name: names,\n",
    "    time: times,\n",
    "})\n",
    "\n",
    "\n",
    "let r = df.toRecords()\n",
    "    .filter((row) => row.name.includes('op_string'))\n",
    "    .reduce((input, row) => { input[row.name] = +row.time; return input }, {});\n",
    "    \n",
    "let comparisons = [\n",
    "    [\"small\", \"bench_op_string_old\", \"bench_op_string\"],\n",
    "    [\"1,000\", \"bench_op_string_old_large_1000\", \"bench_op_string_large_1000\"],\n",
    "    [\"1,000,000\", \"bench_op_string_old_large_1000000\", \"bench_op_string_large_1000000\"],\n",
    "    [\"1,000 utf8\", \"bench_op_string_old_large_utf8_1000\", \"bench_op_string_large_utf8_1000\"],\n",
    "    [\"1,000,000 utf8\", \"bench_op_string_old_large_utf8_1000000\", \"bench_op_string_large_utf8_1000000\"],\n",
    "    [\"ByteString\", \"bench_op_string_bytestring\", \"bench_op_string_onebyte\"],\n",
    "];\n",
    "\n",
    "let dfrec = { name: [], old: [], new: [], speedup: [] };\n",
    "\n",
    "for (let row of comparisons) {\n",
    "    dfrec.name.push(row[0]);\n",
    "    dfrec.old.push(r[row[1]].toLocaleString());\n",
    "    dfrec.new.push(r[row[2]].toLocaleString());\n",
    "    dfrec.speedup.push( ((r[row[1]] - r[row[2]]) / r[row[1]] * 100).toFixed(2) + \"%\" );\n",
    "}\n",
    "\n",
    "const dfString = new pl.DataFrame(dfrec);\n",
    "dfString"
   ]
  },
  {
   "cell_type": "code",
   "execution_count": 63,
   "id": "6d11c3a1",
   "metadata": {
    "slideshow": {
     "slide_type": "skip"
    }
   },
   "outputs": [
    {
     "data": {
      "application/vnd.dataresource+json": {
       "data": [
        {
         "name": "bench_op_async_void",
         "slowdown vs sync": "2.42x"
        },
        {
         "name": "bench_op_async_void_deferred",
         "slowdown vs sync": "12.82x"
        },
        {
         "name": "bench_op_async_void_deferred_nofast",
         "slowdown vs sync": "12.66x"
        },
        {
         "name": "bench_op_async_void_lazy",
         "slowdown vs sync": "11.29x"
        },
        {
         "name": "bench_op_async_void_lazy_nofast",
         "slowdown vs sync": "12.78x"
        },
        {
         "name": "bench_op_async_yield",
         "slowdown vs sync": "12.38x"
        },
        {
         "name": "bench_op_async_yield_deferred",
         "slowdown vs sync": "12.43x"
        },
        {
         "name": "bench_op_async_yield_deferred_nofast",
         "slowdown vs sync": "12.35x"
        },
        {
         "name": "bench_op_async_yield_lazy",
         "slowdown vs sync": "13.12x"
        },
        {
         "name": "bench_op_async_yield_lazy_nofast",
         "slowdown vs sync": "12.97x"
        },
        {
         "name": "sync_baseline",
         "slowdown vs sync": "1.00x"
        }
       ],
       "schema": {
        "fields": [
         {
          "name": "name",
          "type": "string"
         },
         {
          "name": "slowdown vs sync",
          "type": "string"
         }
        ]
       }
      },
      "text/html": [
       "<table><thead><tr><th>name</th><th>slowdown vs sync</th></tr></thead><tbody><tr><td>bench_op_async_void</td><td>2.42x</td></tr><tr><td>bench_op_async_void_deferred</td><td>12.82x</td></tr><tr><td>bench_op_async_void_deferred_nofast</td><td>12.66x</td></tr><tr><td>bench_op_async_void_lazy</td><td>11.29x</td></tr><tr><td>bench_op_async_void_lazy_nofast</td><td>12.78x</td></tr><tr><td>bench_op_async_yield</td><td>12.38x</td></tr><tr><td>bench_op_async_yield_deferred</td><td>12.43x</td></tr><tr><td>bench_op_async_yield_deferred_nofast</td><td>12.35x</td></tr><tr><td>bench_op_async_yield_lazy</td><td>13.12x</td></tr><tr><td>bench_op_async_yield_lazy_nofast</td><td>12.97x</td></tr></tbody></table>"
      ]
     },
     "execution_count": 63,
     "metadata": {},
     "output_type": "execute_result"
    },
    {
     "name": "stdout",
     "output_type": "stream",
     "text": [
      "{\n",
      "  bench_op_async_void: \u001b[32m\"103436\"\u001b[39m,\n",
      "  bench_op_async_void_deferred: \u001b[32m\"547586\"\u001b[39m,\n",
      "  bench_op_async_void_deferred_nofast: \u001b[32m\"540914\"\u001b[39m,\n",
      "  bench_op_async_void_lazy: \u001b[32m\"482150\"\u001b[39m,\n",
      "  bench_op_async_void_lazy_nofast: \u001b[32m\"545937\"\u001b[39m,\n",
      "  bench_op_async_yield: \u001b[32m\"528709\"\u001b[39m,\n",
      "  bench_op_async_yield_deferred: \u001b[32m\"530796\"\u001b[39m,\n",
      "  bench_op_async_yield_deferred_nofast: \u001b[32m\"527600\"\u001b[39m,\n",
      "  bench_op_async_yield_lazy: \u001b[32m\"560303\"\u001b[39m,\n",
      "  bench_op_async_yield_lazy_nofast: \u001b[32m\"553959\"\u001b[39m,\n",
      "  sync_baseline: \u001b[32m\"42720\"\u001b[39m\n",
      "}\n",
      "103436\n",
      "547586\n",
      "540914\n",
      "482150\n",
      "545937\n",
      "528709\n",
      "530796\n",
      "527600\n",
      "560303\n",
      "553959\n",
      "42720\n"
     ]
    }
   ],
   "source": [
    "let names = [], times = [];\n",
    "for (let line of benchOutAsync.split('\\n')) {\n",
    "    if (line.startsWith('test ') && line.includes('...')) {\n",
    "        let [nameBits, timeBits, ...rest] = line.split('bench:');\n",
    "        let [_, name] = nameBits.trim().split(\" \");\n",
    "        let [timeComma] = timeBits.trim().split(\" \");\n",
    "        let time = timeComma.replace(/,/g, '');\n",
    "        names.push(name);\n",
    "        times.push(time);\n",
    "    }\n",
    "}\n",
    "\n",
    "let df = new pl.DataFrame({\n",
    "    name: names,\n",
    "    time: times,\n",
    "})\n",
    "\n",
    "let r = df.toRecords()\n",
    "    .filter((row) => row.name != 'baseline')\n",
    "    .reduce((input, row) => { input[row.name] = row.time; return input }, {});\n",
    "    \n",
    "let dfrec = { name: [], \"slowdown vs sync\": [] };\n",
    "console.log(r);\n",
    "for (let row of Object.keys(r)) {\n",
    "    console.log(r[row]);\n",
    "    let baseline = +r[\"sync_baseline\"];\n",
    "    dfrec.name.push(row);\n",
    "    dfrec[\"slowdown vs sync\"].push( (+r[row] / +baseline).toFixed(2) + \"x\" );//\n",
    "}\n",
    "\n",
    "let dfAsync = new pl.DataFrame(dfrec);\n",
    "dfAsync"
   ]
  },
  {
   "cell_type": "markdown",
   "id": "165a2b93",
   "metadata": {
    "slideshow": {
     "slide_type": "slide"
    }
   },
   "source": [
    "\n",
    "# `#[op2]`"
   ]
  },
  {
   "cell_type": "markdown",
   "id": "01c978e4",
   "metadata": {
    "slideshow": {
     "slide_type": "subslide"
    }
   },
   "source": [
    "<img src=\"https://miro.medium.com/v2/resize:fit:864/format:webp/1*nR8Gow0ukWXWZdkofgkT8A.png\">"
   ]
  },
  {
   "cell_type": "markdown",
   "id": "bfc5e324",
   "metadata": {
    "slideshow": {
     "slide_type": "slide"
    }
   },
   "source": [
    "# A brief history of ops\n",
    "### (incomplete)"
   ]
  },
  {
   "cell_type": "markdown",
   "id": "e21ff1f1",
   "metadata": {
    "slideshow": {
     "slide_type": "fragment"
    }
   },
   "source": [
    " * Note: a high-level reconstruction that skips or misses some details"
   ]
  },
  {
   "cell_type": "markdown",
   "id": "2e6d9b86",
   "metadata": {
    "slideshow": {
     "slide_type": "fragment"
    }
   },
   "source": [
    "- early ops: JSON and binary buffers sent from JS to Rust\n",
    "  * _lots_ of serialization overhead"
   ]
  },
  {
   "cell_type": "markdown",
   "id": "71e0cbbe",
   "metadata": {
    "slideshow": {
     "slide_type": "slide"
    }
   },
   "source": [
    "# A brief history of ops (incomplete)"
   ]
  },
  {
   "cell_type": "markdown",
   "id": "d6a266ee",
   "metadata": {
    "slideshow": {
     "slide_type": "fragment"
    }
   },
   "source": [
    "- `serde_v8` + codegen via traits\n",
    "  * No more JSON overhead\n",
    "  * ops dispatched via central table"
   ]
  },
  {
   "cell_type": "markdown",
   "id": "47937c47",
   "metadata": {
    "slideshow": {
     "slide_type": "fragment"
    }
   },
   "source": [
    "- `[op]`: proc macros\n",
    "  * one function per op\n",
    "  * ops can now have custom number of parameters\n",
    "  * still using `serde_v8` + codegen"
   ]
  },
  {
   "cell_type": "markdown",
   "id": "cc1f0a65",
   "metadata": {
    "slideshow": {
     "slide_type": "slide"
    }
   },
   "source": [
    "# A brief history of ops (incomplete)"
   ]
  },
  {
   "cell_type": "markdown",
   "id": "f7f0ab14",
   "metadata": {
    "slideshow": {
     "slide_type": "fragment"
    }
   },
   "source": [
    "- fastcalls and custom per-type dispatch\n",
    "  * Skip serde_v8 for some basic types\n",
    "  * Allow v8 to call Rust directly from JIT'd code"
   ]
  },
  {
   "cell_type": "markdown",
   "id": "b3e2494b",
   "metadata": {
    "slideshow": {
     "slide_type": "slide"
    }
   },
   "source": [
    "# `#[op2]`\n",
    "\n",
    "Evolution from `#[op]`\n",
    " \n",
    "<table><tr style=\"background-color: white\"><td style=\"text-align:left !important;\">\n",
    "\n",
    "Before:\n",
    "\n",
    "```rust\n",
    " #[op]\n",
    " pub fn op_do_something(...) {\n",
    "   do_something()\n",
    " }\n",
    "```\n",
    " \n",
    "</td><td style=\"text-align:left !important;\">\n",
    "\n",
    "After:\n",
    "    \n",
    "```rust\n",
    " #[op2]\n",
    " pub fn op_do_something(...) {\n",
    "   do_something()\n",
    " }\n",
    "```\n",
    "    \n",
    "</td></tr></table>"
   ]
  },
  {
   "cell_type": "markdown",
   "id": "8eea3545",
   "metadata": {
    "slideshow": {
     "slide_type": "slide"
    }
   },
   "source": [
    "# `#[op2]`\n",
    "\n",
    " - Maintainability:\n",
    "   - Parsing and codegen split into distinct steps\n",
    "   - Fast and slow codegen separate to evolve as we have bandwidth\n",
    "   - Codegen for each input/output type is separate"
   ]
  },
  {
   "cell_type": "markdown",
   "id": "885f6df9",
   "metadata": {
    "slideshow": {
     "slide_type": "slide"
    }
   },
   "source": [
    "# `#[op2]`\n",
    "\n",
    " - Designed for performance:\n",
    "   - Locks removed for almost all sync ops (unless they touch the state)\n",
    "   - Context and other objects only created as necessary\n",
    "   - Metrics are pluggable and have near-zero cost when disabled\n",
    "   - Removed allocations for most strings"
   ]
  },
  {
   "cell_type": "code",
   "execution_count": 3,
   "id": "324af6dc",
   "metadata": {
    "slideshow": {
     "slide_type": "fragment"
    }
   },
   "outputs": [
    {
     "data": {
      "application/vnd.dataresource+json": {
       "data": [
        {
         "name": "small",
         "new": "11428",
         "old": "12677",
         "speedup": "9.85%"
        },
        {
         "name": "1,000",
         "new": "106861",
         "old": "137553",
         "speedup": "22.31%"
        },
        {
         "name": "1,000,000",
         "new": "399521",
         "old": "240685",
         "speedup": "-65.99%"
        },
        {
         "name": "1,000 utf8",
         "new": "2132591",
         "old": "2962908",
         "speedup": "28.02%"
        },
        {
         "name": "1,000,000 utf8",
         "new": "11187025",
         "old": "14986862",
         "speedup": "25.35%"
        },
        {
         "name": "ByteString",
         "new": "4773",
         "old": "58914",
         "speedup": "91.90%"
        }
       ],
       "schema": {
        "fields": [
         {
          "name": "name",
          "type": "string"
         },
         {
          "name": "old",
          "type": "string"
         },
         {
          "name": "new",
          "type": "string"
         },
         {
          "name": "speedup",
          "type": "string"
         }
        ]
       }
      },
      "text/html": [
       "<table><thead><tr><th>name</th><th>old</th><th>new</th><th>speedup</th></tr></thead><tbody><tr><td>small</td><td>12677</td><td>11428</td><td>9.85%</td></tr><tr><td>1,000</td><td>137553</td><td>106861</td><td>22.31%</td></tr><tr><td>1,000,000</td><td>240685</td><td>399521</td><td>-65.99%</td></tr><tr><td>1,000 utf8</td><td>2962908</td><td>2132591</td><td>28.02%</td></tr><tr><td>1,000,000 utf8</td><td>14986862</td><td>11187025</td><td>25.35%</td></tr><tr><td>ByteString</td><td>58914</td><td>4773</td><td>91.90%</td></tr></tbody></table>"
      ]
     },
     "execution_count": 3,
     "metadata": {},
     "output_type": "execute_result"
    }
   ],
   "source": [
    "dfString"
   ]
  },
  {
   "cell_type": "markdown",
   "id": "9c11d0e6",
   "metadata": {
    "slideshow": {
     "slide_type": "slide"
    }
   },
   "source": [
    "```\n",
    "running 34 tests\n",
    "test baseline                               ... bench:         470 ns/iter (+/- 13)\n",
    "test bench_op_arraybuffer                   ... bench:       4,040 ns/iter (+/- 21)\n",
    "test bench_op_bigint                        ... bench:       2,213 ns/iter (+/- 24)\n",
    "test bench_op_bigint_return                 ... bench:       2,147 ns/iter (+/- 32)\n",
    "test bench_op_buffer                        ... bench:       3,034 ns/iter (+/- 134)\n",
    "test bench_op_buffer_nofast                 ... bench:      28,873 ns/iter (+/- 852)\n",
    "test bench_op_buffer_old                    ... bench:       2,114 ns/iter (+/- 47)\n",
    "test bench_op_external                      ... bench:       2,363 ns/iter (+/- 21)\n",
    "test bench_op_external_nofast               ... bench:       8,050 ns/iter (+/- 433)\n",
    "test bench_op_option_u32                    ... bench:       5,859 ns/iter (+/- 172)\n",
    "test bench_op_u32                           ... bench:       2,143 ns/iter (+/- 47)\n",
    "test bench_op_v8_global                     ... bench:      20,497 ns/iter (+/- 4,137)\n",
    "test bench_op_v8_global_scope               ... bench:      28,486 ns/iter (+/- 667)\n",
    "test bench_op_v8_local                      ... bench:       3,072 ns/iter (+/- 69)\n",
    "test bench_op_v8_local_nofast               ... bench:       5,774 ns/iter (+/- 151)\n",
    "test bench_op_v8_local_scope                ... bench:      11,753 ns/iter (+/- 233)\n",
    "test bench_op_void                          ... bench:       2,146 ns/iter (+/- 49)\n",
    "test bench_op_void_2x                       ... bench:       4,440 ns/iter (+/- 105)\n",
    "test bench_op_void_nofast                   ... bench:       5,656 ns/iter (+/- 91)\n",
    "\n",
    "test result: ok. 0 passed; 0 failed; 0 ignored; 34 measured\n",
    "```"
   ]
  },
  {
   "cell_type": "markdown",
   "id": "2ea1a58c",
   "metadata": {
    "slideshow": {
     "slide_type": "slide"
    }
   },
   "source": [
    "# `#[op2]`\n",
    "\n",
    " - _Explicit_ over _implicit_, clarity for developers\n",
    " - Annotations indicate where developer should pay attention to argument type because of performance or other concerns\n",
    " \n",
    "```rust\n",
    "#[op2]\n",
    "pub fn op_something(\n",
    "    #[smi] id: u32,\n",
    "    #[string] name: &str,\n",
    "    #[buffer(copy)] buffer_in: JsBuffer,\n",
    "    #[buffer] buffer_out: &mut [u8],\n",
    "    #[serde] control: ComplexStruct) {\n",
    "}\n",
    "```"
   ]
  },
  {
   "cell_type": "markdown",
   "id": "3f834c61",
   "metadata": {
    "slideshow": {
     "slide_type": "slide"
    }
   },
   "source": [
    "# `#[op2]`\n",
    "\n",
    " - _Explicit_ over _implicit_, clarity for developers\n",
    " - Shortcuts for common patterns: `#[state]`, `v8::Global`\n",
    " - Fast is now very explicit: `#[op2(fast)]` is self-checking\n",
    " \n",
    "```\n",
    "custom attribute panicked\n",
    "message: Failed to parse #[op2]:\n",
    " - This op is fast-compatible and should be marked as (fast)\n",
    "```\n"
   ]
  },
  {
   "cell_type": "markdown",
   "id": "cbd79c95",
   "metadata": {
    "slideshow": {
     "slide_type": "slide"
    }
   },
   "source": [
    "# `#[op2]`\n",
    "\n",
    "Self-documenting: https://docs.rs/deno_ops/latest/deno_ops/attr.op2.html\n",
    "\n",
    "<img src=\"docs.png\">"
   ]
  },
  {
   "cell_type": "markdown",
   "id": "4109f992",
   "metadata": {
    "slideshow": {
     "slide_type": "slide"
    }
   },
   "source": [
    "# `#[op2]`\n",
    "\n",
    "Async is still a problem (but we'll fix that)\n",
    "\n"
   ]
  },
  {
   "cell_type": "code",
   "execution_count": 64,
   "id": "d0f6bfab",
   "metadata": {
    "slideshow": {
     "slide_type": "fragment"
    }
   },
   "outputs": [
    {
     "data": {
      "application/vnd.dataresource+json": {
       "data": [
        {
         "name": "bench_op_async_void",
         "slowdown vs sync": "2.42x"
        },
        {
         "name": "bench_op_async_void_deferred",
         "slowdown vs sync": "12.82x"
        },
        {
         "name": "bench_op_async_void_deferred_nofast",
         "slowdown vs sync": "12.66x"
        },
        {
         "name": "bench_op_async_void_lazy",
         "slowdown vs sync": "11.29x"
        },
        {
         "name": "bench_op_async_void_lazy_nofast",
         "slowdown vs sync": "12.78x"
        },
        {
         "name": "bench_op_async_yield",
         "slowdown vs sync": "12.38x"
        },
        {
         "name": "bench_op_async_yield_deferred",
         "slowdown vs sync": "12.43x"
        },
        {
         "name": "bench_op_async_yield_deferred_nofast",
         "slowdown vs sync": "12.35x"
        },
        {
         "name": "bench_op_async_yield_lazy",
         "slowdown vs sync": "13.12x"
        },
        {
         "name": "bench_op_async_yield_lazy_nofast",
         "slowdown vs sync": "12.97x"
        },
        {
         "name": "sync_baseline",
         "slowdown vs sync": "1.00x"
        }
       ],
       "schema": {
        "fields": [
         {
          "name": "name",
          "type": "string"
         },
         {
          "name": "slowdown vs sync",
          "type": "string"
         }
        ]
       }
      },
      "text/html": [
       "<table><thead><tr><th>name</th><th>slowdown vs sync</th></tr></thead><tbody><tr><td>bench_op_async_void</td><td>2.42x</td></tr><tr><td>bench_op_async_void_deferred</td><td>12.82x</td></tr><tr><td>bench_op_async_void_deferred_nofast</td><td>12.66x</td></tr><tr><td>bench_op_async_void_lazy</td><td>11.29x</td></tr><tr><td>bench_op_async_void_lazy_nofast</td><td>12.78x</td></tr><tr><td>bench_op_async_yield</td><td>12.38x</td></tr><tr><td>bench_op_async_yield_deferred</td><td>12.43x</td></tr><tr><td>bench_op_async_yield_deferred_nofast</td><td>12.35x</td></tr><tr><td>bench_op_async_yield_lazy</td><td>13.12x</td></tr><tr><td>bench_op_async_yield_lazy_nofast</td><td>12.97x</td></tr></tbody></table>"
      ]
     },
     "execution_count": 64,
     "metadata": {},
     "output_type": "execute_result"
    }
   ],
   "source": [
    "dfAsync"
   ]
  },
  {
   "cell_type": "markdown",
   "id": "e2a14141",
   "metadata": {
    "slideshow": {
     "slide_type": "slide"
    }
   },
   "source": [
    "# `#[op2]`\n",
    "\n",
    " - Future plans:\n",
    "   * Final benchmark of op vs op2, ensure op2 is fast or faster\n",
    "   * More helpers: `#[resource]`, `ScopeFunction`\n",
    "   * Updating all the old docs (roll-your-own Javascript, etc)\n",
    "   * `async` rewrite (difficult w/`#[op]` still around)\n",
    "   * Fancy fast return options"
   ]
  },
  {
   "cell_type": "code",
   "execution_count": null,
   "id": "7eccc1c1",
   "metadata": {
    "slideshow": {
     "slide_type": "skip"
    }
   },
   "outputs": [],
   "source": []
  },
  {
   "cell_type": "code",
   "execution_count": null,
   "id": "60398e55",
   "metadata": {
    "slideshow": {
     "slide_type": "skip"
    }
   },
   "outputs": [],
   "source": []
  }
 ],
 "metadata": {
  "celltoolbar": "Slideshow",
  "kernelspec": {
   "display_name": "Deno",
   "language": "typescript",
   "name": "deno"
  },
  "language_info": {
   "file_extension": ".ts",
   "mimetype": "text/x.typescript",
   "name": "typescript",
   "nb_converter": "script",
   "pygments_lexer": "typescript",
   "version": "5.2.2"
  },
  "rise": {
   "enable_chalkboard": "true",
   "scroll": "true",
   "transition": "none"
  }
 },
 "nbformat": 4,
 "nbformat_minor": 5
}
